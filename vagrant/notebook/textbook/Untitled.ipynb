{
 "cells": [
  {
   "cell_type": "code",
   "execution_count": 1,
   "metadata": {
    "collapsed": true
   },
   "outputs": [],
   "source": [
    "hdr=[\"円周率\", \"自然体数の底\", \"虚数単位\", \"無限大\"]\n",
    "sts=[pi, e, I, oo]"
   ]
  },
  {
   "cell_type": "code",
   "execution_count": 4,
   "metadata": {
    "collapsed": false
   },
   "outputs": [
    {
     "data": {
      "text/html": [
       "<div class=\"notruncate\">\n",
       "<table  class=\"table_form\">\n",
       "<tbody>\n",
       "<tr class =\"row-a\">\n",
       "<td>���������</td>\n",
       "<td>pi</td>\n",
       "<td><script type=\"math/tex\">\\pi</script></td>\n",
       "</tr>\n",
       "<tr class =\"row-b\">\n",
       "<td>������������������</td>\n",
       "<td>e</td>\n",
       "<td><script type=\"math/tex\">e</script></td>\n",
       "</tr>\n",
       "<tr class =\"row-a\">\n",
       "<td>������������</td>\n",
       "<td>I</td>\n",
       "<td><script type=\"math/tex\">i</script></td>\n",
       "</tr>\n",
       "<tr class =\"row-b\">\n",
       "<td>���������</td>\n",
       "<td>+Infinity</td>\n",
       "<td><script type=\"math/tex\">+\\infty</script></td>\n",
       "</tr>\n",
       "</tbody>\n",
       "</table>\n",
       "</div>"
      ],
      "text/plain": [
       "<div class=\"notruncate\">\n",
       "<table  class=\"table_form\">\n",
       "<tbody>\n",
       "<tr class =\"row-a\">\n",
       "<td>���������</td>\n",
       "<td>pi</td>\n",
       "<td><script type=\"math/tex\">\\pi</script></td>\n",
       "</tr>\n",
       "<tr class =\"row-b\">\n",
       "<td>������������������</td>\n",
       "<td>e</td>\n",
       "<td><script type=\"math/tex\">e</script></td>\n",
       "</tr>\n",
       "<tr class =\"row-a\">\n",
       "<td>������������</td>\n",
       "<td>I</td>\n",
       "<td><script type=\"math/tex\">i</script></td>\n",
       "</tr>\n",
       "<tr class =\"row-b\">\n",
       "<td>���������</td>\n",
       "<td>+Infinity</td>\n",
       "<td><script type=\"math/tex\">+\\infty</script></td>\n",
       "</tr>\n",
       "</tbody>\n",
       "</table>\n",
       "</div>"
      ]
     },
     "metadata": {},
     "output_type": "display_data"
    },
    {
     "data": {
      "text/plain": []
     },
     "execution_count": 4,
     "metadata": {},
     "output_type": "execute_result"
    }
   ],
   "source": [
    "html.table([(h, str(st), \"$%s$\"%latex(st) ) for (h, st) in zip(hdr, sts)]) "
   ]
  },
  {
   "cell_type": "code",
   "execution_count": null,
   "metadata": {
    "collapsed": true
   },
   "outputs": [],
   "source": []
  }
 ],
 "metadata": {
  "kernelspec": {
   "display_name": "SageMath 7.2",
   "language": "",
   "name": "sagemath"
  },
  "language_info": {
   "codemirror_mode": {
    "name": "ipython",
    "version": 2
   },
   "file_extension": ".py",
   "mimetype": "text/x-python",
   "name": "python",
   "nbconvert_exporter": "python",
   "pygments_lexer": "ipython2",
   "version": "2.7.10"
  }
 },
 "nbformat": 4,
 "nbformat_minor": 0
}
