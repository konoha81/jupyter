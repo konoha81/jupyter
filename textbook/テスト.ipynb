{
 "cells": [
  {
   "cell_type": "code",
   "execution_count": 1,
   "metadata": {
    "collapsed": false
   },
   "outputs": [],
   "source": [
    "%load_ext sage"
   ]
  },
  {
   "cell_type": "code",
   "execution_count": 3,
   "metadata": {
    "collapsed": false
   },
   "outputs": [],
   "source": [
    "from sage.misc.latex import latex\n",
    "latex.add_package_to_preamble_if_available(\"tikz\")\n",
    "latex.add_to_mathjax_avoid_list(\"tikz\")\n",
    "sage.misc.latex.EMBEDDED_MODE = True"
   ]
  },
  {
   "cell_type": "code",
   "execution_count": 4,
   "metadata": {
    "collapsed": false
   },
   "outputs": [],
   "source": [
    "from IPython.display import display, Latex, HTML, Math, JSON"
   ]
  },
  {
   "cell_type": "code",
   "execution_count": 5,
   "metadata": {
    "collapsed": true
   },
   "outputs": [],
   "source": [
    "load('JinjaMagics.py')"
   ]
  },
  {
   "cell_type": "code",
   "execution_count": 205,
   "metadata": {
    "collapsed": true
   },
   "outputs": [],
   "source": [
    "# 以下のコメントを外すとJinjaMagicsが作成され、ロードされる\n",
    "## %load JinjaMagics\n",
    "from IPython import display\n",
    "from IPython.core.magic import register_cell_magic, Magics, magics_class, cell_magic\n",
    "import jinja2\n",
    "\n",
    "@magics_class\n",
    "class JinjaMagics(Magics):\n",
    "    '''Magics class containing the jinja2 magic and state'''\n",
    "    \n",
    "    def __init__(self, shell):\n",
    "        super(JinjaMagics, self).__init__(shell)\n",
    "        \n",
    "        # create a jinja2 environment to use for rendering\n",
    "        # this can be modified for desired effects (ie: using different variable syntax)\n",
    "        self.env = jinja2.Environment(loader=jinja2.FileSystemLoader('.'))\n",
    "        \n",
    "        # possible output types\n",
    "        self.display_functions = dict(html=display.HTML, \n",
    "                                      latex=display.Latex,\n",
    "                                      json=display.JSON,\n",
    "                                      pretty=display.Pretty,\n",
    "                                      display=display.display)\n",
    "\n",
    "    \n",
    "    @cell_magic\n",
    "    def jinja(self, line, cell):\n",
    "        '''\n",
    "        jinja2 cell magic function.  Contents of cell are rendered by jinja2, and \n",
    "        the line can be used to specify output type.\n",
    "\n",
    "        ie: \"%%jinja html\" will return the rendered cell wrapped in an HTML object.\n",
    "        '''\n",
    "        f = self.display_functions.get(line.lower().strip(), display.display)\n",
    "        \n",
    "        tmp = self.env.from_string(cell)\n",
    "        rend = tmp.render(dict((k,v) for (k,v) in self.shell.user_ns.items() \n",
    "                                        if not k.startswith('_') and k not in self.shell.user_ns_hidden))\n",
    "        \n",
    "        return f(rend)\n",
    "        \n",
    "    \n",
    "ip = get_ipython()\n",
    "ip.register_magics(JinjaMagics)\n"
   ]
  },
  {
   "cell_type": "code",
   "execution_count": 6,
   "metadata": {
    "collapsed": true
   },
   "outputs": [],
   "source": [
    "names = ['alice','bob']"
   ]
  },
  {
   "cell_type": "code",
   "execution_count": 7,
   "metadata": {
    "collapsed": false
   },
   "outputs": [
    {
     "data": {
      "text/html": [
       "<html>\n",
       "<head>\n",
       "<title></title>\n",
       "</head>\n",
       "<body>\n",
       "\n",
       "\n",
       "Hello alice <br/>\n",
       "\n",
       "\n",
       "\n",
       "Hello bob <br/>\n",
       "\n",
       " \n",
       "</body>\n",
       "</html>"
      ],
      "text/plain": [
       "<IPython.core.display.HTML object>"
      ]
     },
     "execution_count": 7,
     "metadata": {},
     "output_type": "execute_result"
    }
   ],
   "source": [
    "%%jinja html\n",
    "<html>\n",
    "<head>\n",
    "<title>{{ title }}</title>\n",
    "</head>\n",
    "<body>\n",
    "{% for name in names %}\n",
    "\n",
    "Hello {{ name }} <br/>\n",
    "\n",
    "{% endfor %} \n",
    "</body>\n",
    "</html>"
   ]
  },
  {
   "cell_type": "code",
   "execution_count": 8,
   "metadata": {
    "collapsed": false
   },
   "outputs": [],
   "source": [
    "hdr=[\"円周率\", \"自然体数の底\", \"虚数単位\", \"無限大\"]\n",
    "sts=[pi, e, I, oo]\n"
   ]
  },
  {
   "cell_type": "code",
   "execution_count": 11,
   "metadata": {
    "collapsed": false
   },
   "outputs": [
    {
     "data": {
      "text/plain": []
     },
     "execution_count": 11,
     "metadata": {},
     "output_type": "execute_result"
    }
   ],
   "source": [
    "%%capture output\n",
    "html.table([(h, str(st), \"$%s$\"%latex(st) ) for (h, st) in zip(hdr, sts)]) "
   ]
  },
  {
   "cell_type": "code",
   "execution_count": 12,
   "metadata": {
    "collapsed": false
   },
   "outputs": [
    {
     "ename": "UnicodeDecodeError",
     "evalue": "'ascii' codec can't decode byte 0xe5 in position 96: ordinal not in range(128)",
     "output_type": "error",
     "traceback": [
      "\u001b[0;31m---------------------------------------------------------------------------\u001b[0m",
      "\u001b[0;31mUnicodeDecodeError\u001b[0m                        Traceback (most recent call last)",
      "\u001b[0;32m<ipython-input-12-5021ccdd5f3c>\u001b[0m in \u001b[0;36m<module>\u001b[0;34m()\u001b[0m\n\u001b[0;32m----> 1\u001b[0;31m \u001b[0mHTML\u001b[0m\u001b[0;34m(\u001b[0m\u001b[0moutput\u001b[0m\u001b[0;34m.\u001b[0m\u001b[0mstdout\u001b[0m\u001b[0;34m)\u001b[0m\u001b[0;34m\u001b[0m\u001b[0m\n\u001b[0m",
      "\u001b[0;32m/Users/take/local/sage-6.9/local/lib/python2.7/site-packages/IPython/core/displayhook.pyc\u001b[0m in \u001b[0;36m__call__\u001b[0;34m(self, result)\u001b[0m\n\u001b[1;32m    250\u001b[0m                 \u001b[0mself\u001b[0m\u001b[0;34m.\u001b[0m\u001b[0mwrite_format_data\u001b[0m\u001b[0;34m(\u001b[0m\u001b[0mformat_dict\u001b[0m\u001b[0;34m,\u001b[0m \u001b[0mmd_dict\u001b[0m\u001b[0;34m)\u001b[0m\u001b[0;34m\u001b[0m\u001b[0m\n\u001b[1;32m    251\u001b[0m                 \u001b[0mself\u001b[0m\u001b[0;34m.\u001b[0m\u001b[0mlog_output\u001b[0m\u001b[0;34m(\u001b[0m\u001b[0mformat_dict\u001b[0m\u001b[0;34m)\u001b[0m\u001b[0;34m\u001b[0m\u001b[0m\n\u001b[0;32m--> 252\u001b[0;31m             \u001b[0mself\u001b[0m\u001b[0;34m.\u001b[0m\u001b[0mfinish_displayhook\u001b[0m\u001b[0;34m(\u001b[0m\u001b[0;34m)\u001b[0m\u001b[0;34m\u001b[0m\u001b[0m\n\u001b[0m\u001b[1;32m    253\u001b[0m \u001b[0;34m\u001b[0m\u001b[0m\n\u001b[1;32m    254\u001b[0m     \u001b[0;32mdef\u001b[0m \u001b[0mcull_cache\u001b[0m\u001b[0;34m(\u001b[0m\u001b[0mself\u001b[0m\u001b[0;34m)\u001b[0m\u001b[0;34m:\u001b[0m\u001b[0;34m\u001b[0m\u001b[0m\n",
      "\u001b[0;32m/Users/take/local/sage-6.9/local/lib/python2.7/site-packages/ipykernel/displayhook.pyc\u001b[0m in \u001b[0;36mfinish_displayhook\u001b[0;34m(self)\u001b[0m\n\u001b[1;32m     70\u001b[0m         \u001b[0msys\u001b[0m\u001b[0;34m.\u001b[0m\u001b[0mstderr\u001b[0m\u001b[0;34m.\u001b[0m\u001b[0mflush\u001b[0m\u001b[0;34m(\u001b[0m\u001b[0;34m)\u001b[0m\u001b[0;34m\u001b[0m\u001b[0m\n\u001b[1;32m     71\u001b[0m         \u001b[0;32mif\u001b[0m \u001b[0mself\u001b[0m\u001b[0;34m.\u001b[0m\u001b[0mmsg\u001b[0m\u001b[0;34m[\u001b[0m\u001b[0;34m'content'\u001b[0m\u001b[0;34m]\u001b[0m\u001b[0;34m[\u001b[0m\u001b[0;34m'data'\u001b[0m\u001b[0;34m]\u001b[0m\u001b[0;34m:\u001b[0m\u001b[0;34m\u001b[0m\u001b[0m\n\u001b[0;32m---> 72\u001b[0;31m             \u001b[0mself\u001b[0m\u001b[0;34m.\u001b[0m\u001b[0msession\u001b[0m\u001b[0;34m.\u001b[0m\u001b[0msend\u001b[0m\u001b[0;34m(\u001b[0m\u001b[0mself\u001b[0m\u001b[0;34m.\u001b[0m\u001b[0mpub_socket\u001b[0m\u001b[0;34m,\u001b[0m \u001b[0mself\u001b[0m\u001b[0;34m.\u001b[0m\u001b[0mmsg\u001b[0m\u001b[0;34m,\u001b[0m \u001b[0mident\u001b[0m\u001b[0;34m=\u001b[0m\u001b[0mself\u001b[0m\u001b[0;34m.\u001b[0m\u001b[0mtopic\u001b[0m\u001b[0;34m)\u001b[0m\u001b[0;34m\u001b[0m\u001b[0m\n\u001b[0m\u001b[1;32m     73\u001b[0m         \u001b[0mself\u001b[0m\u001b[0;34m.\u001b[0m\u001b[0mmsg\u001b[0m \u001b[0;34m=\u001b[0m \u001b[0mNone\u001b[0m\u001b[0;34m\u001b[0m\u001b[0m\n",
      "\u001b[0;32m/Users/take/local/sage-6.9/local/lib/python2.7/site-packages/jupyter_client/session.pyc\u001b[0m in \u001b[0;36msend\u001b[0;34m(self, stream, msg_or_type, content, parent, ident, buffers, track, header, metadata)\u001b[0m\n\u001b[1;32m    663\u001b[0m         \u001b[0;32mif\u001b[0m \u001b[0mself\u001b[0m\u001b[0;34m.\u001b[0m\u001b[0madapt_version\u001b[0m\u001b[0;34m:\u001b[0m\u001b[0;34m\u001b[0m\u001b[0m\n\u001b[1;32m    664\u001b[0m             \u001b[0mmsg\u001b[0m \u001b[0;34m=\u001b[0m \u001b[0madapt\u001b[0m\u001b[0;34m(\u001b[0m\u001b[0mmsg\u001b[0m\u001b[0;34m,\u001b[0m \u001b[0mself\u001b[0m\u001b[0;34m.\u001b[0m\u001b[0madapt_version\u001b[0m\u001b[0;34m)\u001b[0m\u001b[0;34m\u001b[0m\u001b[0m\n\u001b[0;32m--> 665\u001b[0;31m         \u001b[0mto_send\u001b[0m \u001b[0;34m=\u001b[0m \u001b[0mself\u001b[0m\u001b[0;34m.\u001b[0m\u001b[0mserialize\u001b[0m\u001b[0;34m(\u001b[0m\u001b[0mmsg\u001b[0m\u001b[0;34m,\u001b[0m \u001b[0mident\u001b[0m\u001b[0;34m)\u001b[0m\u001b[0;34m\u001b[0m\u001b[0m\n\u001b[0m\u001b[1;32m    666\u001b[0m         \u001b[0mto_send\u001b[0m\u001b[0;34m.\u001b[0m\u001b[0mextend\u001b[0m\u001b[0;34m(\u001b[0m\u001b[0mbuffers\u001b[0m\u001b[0;34m)\u001b[0m\u001b[0;34m\u001b[0m\u001b[0m\n\u001b[1;32m    667\u001b[0m         \u001b[0mlongest\u001b[0m \u001b[0;34m=\u001b[0m \u001b[0mmax\u001b[0m\u001b[0;34m(\u001b[0m\u001b[0;34m[\u001b[0m \u001b[0mlen\u001b[0m\u001b[0;34m(\u001b[0m\u001b[0ms\u001b[0m\u001b[0;34m)\u001b[0m \u001b[0;32mfor\u001b[0m \u001b[0ms\u001b[0m \u001b[0;32min\u001b[0m \u001b[0mto_send\u001b[0m \u001b[0;34m]\u001b[0m\u001b[0;34m)\u001b[0m\u001b[0;34m\u001b[0m\u001b[0m\n",
      "\u001b[0;32m/Users/take/local/sage-6.9/local/lib/python2.7/site-packages/jupyter_client/session.pyc\u001b[0m in \u001b[0;36mserialize\u001b[0;34m(self, msg, ident)\u001b[0m\n\u001b[1;32m    566\u001b[0m             \u001b[0mcontent\u001b[0m \u001b[0;34m=\u001b[0m \u001b[0mself\u001b[0m\u001b[0;34m.\u001b[0m\u001b[0mnone\u001b[0m\u001b[0;34m\u001b[0m\u001b[0m\n\u001b[1;32m    567\u001b[0m         \u001b[0;32melif\u001b[0m \u001b[0misinstance\u001b[0m\u001b[0;34m(\u001b[0m\u001b[0mcontent\u001b[0m\u001b[0;34m,\u001b[0m \u001b[0mdict\u001b[0m\u001b[0;34m)\u001b[0m\u001b[0;34m:\u001b[0m\u001b[0;34m\u001b[0m\u001b[0m\n\u001b[0;32m--> 568\u001b[0;31m             \u001b[0mcontent\u001b[0m \u001b[0;34m=\u001b[0m \u001b[0mself\u001b[0m\u001b[0;34m.\u001b[0m\u001b[0mpack\u001b[0m\u001b[0;34m(\u001b[0m\u001b[0mcontent\u001b[0m\u001b[0;34m)\u001b[0m\u001b[0;34m\u001b[0m\u001b[0m\n\u001b[0m\u001b[1;32m    569\u001b[0m         \u001b[0;32melif\u001b[0m \u001b[0misinstance\u001b[0m\u001b[0;34m(\u001b[0m\u001b[0mcontent\u001b[0m\u001b[0;34m,\u001b[0m \u001b[0mbytes\u001b[0m\u001b[0;34m)\u001b[0m\u001b[0;34m:\u001b[0m\u001b[0;34m\u001b[0m\u001b[0m\n\u001b[1;32m    570\u001b[0m             \u001b[0;31m# content is already packed, as in a relayed message\u001b[0m\u001b[0;34m\u001b[0m\u001b[0;34m\u001b[0m\u001b[0m\n",
      "\u001b[0;32m/Users/take/local/sage-6.9/local/lib/python2.7/site-packages/jupyter_client/session.pyc\u001b[0m in \u001b[0;36m<lambda>\u001b[0;34m(obj)\u001b[0m\n\u001b[1;32m     93\u001b[0m \u001b[0;31m# disallow nan, because it's not actually valid JSON\u001b[0m\u001b[0;34m\u001b[0m\u001b[0;34m\u001b[0m\u001b[0m\n\u001b[1;32m     94\u001b[0m json_packer = lambda obj: jsonapi.dumps(obj, default=date_default,\n\u001b[0;32m---> 95\u001b[0;31m     \u001b[0mensure_ascii\u001b[0m\u001b[0;34m=\u001b[0m\u001b[0mFalse\u001b[0m\u001b[0;34m,\u001b[0m \u001b[0mallow_nan\u001b[0m\u001b[0;34m=\u001b[0m\u001b[0mFalse\u001b[0m\u001b[0;34m,\u001b[0m\u001b[0;34m\u001b[0m\u001b[0m\n\u001b[0m\u001b[1;32m     96\u001b[0m )\n\u001b[1;32m     97\u001b[0m \u001b[0mjson_unpacker\u001b[0m \u001b[0;34m=\u001b[0m \u001b[0;32mlambda\u001b[0m \u001b[0ms\u001b[0m\u001b[0;34m:\u001b[0m \u001b[0mjsonapi\u001b[0m\u001b[0;34m.\u001b[0m\u001b[0mloads\u001b[0m\u001b[0;34m(\u001b[0m\u001b[0ms\u001b[0m\u001b[0;34m)\u001b[0m\u001b[0;34m\u001b[0m\u001b[0m\n",
      "\u001b[0;32m/Users/take/local/sage-6.9/local/lib/python2.7/site-packages/zmq/utils/jsonapi.pyc\u001b[0m in \u001b[0;36mdumps\u001b[0;34m(o, **kwargs)\u001b[0m\n\u001b[1;32m     53\u001b[0m         \u001b[0mkwargs\u001b[0m\u001b[0;34m[\u001b[0m\u001b[0;34m'separators'\u001b[0m\u001b[0;34m]\u001b[0m \u001b[0;34m=\u001b[0m \u001b[0;34m(\u001b[0m\u001b[0;34m','\u001b[0m\u001b[0;34m,\u001b[0m \u001b[0;34m':'\u001b[0m\u001b[0;34m)\u001b[0m\u001b[0;34m\u001b[0m\u001b[0m\n\u001b[1;32m     54\u001b[0m \u001b[0;34m\u001b[0m\u001b[0m\n\u001b[0;32m---> 55\u001b[0;31m     \u001b[0ms\u001b[0m \u001b[0;34m=\u001b[0m \u001b[0mjsonmod\u001b[0m\u001b[0;34m.\u001b[0m\u001b[0mdumps\u001b[0m\u001b[0;34m(\u001b[0m\u001b[0mo\u001b[0m\u001b[0;34m,\u001b[0m \u001b[0;34m**\u001b[0m\u001b[0mkwargs\u001b[0m\u001b[0;34m)\u001b[0m\u001b[0;34m\u001b[0m\u001b[0m\n\u001b[0m\u001b[1;32m     56\u001b[0m \u001b[0;34m\u001b[0m\u001b[0m\n\u001b[1;32m     57\u001b[0m     \u001b[0;32mif\u001b[0m \u001b[0misinstance\u001b[0m\u001b[0;34m(\u001b[0m\u001b[0ms\u001b[0m\u001b[0;34m,\u001b[0m \u001b[0municode\u001b[0m\u001b[0;34m)\u001b[0m\u001b[0;34m:\u001b[0m\u001b[0;34m\u001b[0m\u001b[0m\n",
      "\u001b[0;32m/Users/take/local/sage-6.9/local/lib/python/json/__init__.pyc\u001b[0m in \u001b[0;36mdumps\u001b[0;34m(obj, skipkeys, ensure_ascii, check_circular, allow_nan, cls, indent, separators, encoding, default, sort_keys, **kw)\u001b[0m\n\u001b[1;32m    248\u001b[0m         \u001b[0mcheck_circular\u001b[0m\u001b[0;34m=\u001b[0m\u001b[0mcheck_circular\u001b[0m\u001b[0;34m,\u001b[0m \u001b[0mallow_nan\u001b[0m\u001b[0;34m=\u001b[0m\u001b[0mallow_nan\u001b[0m\u001b[0;34m,\u001b[0m \u001b[0mindent\u001b[0m\u001b[0;34m=\u001b[0m\u001b[0mindent\u001b[0m\u001b[0;34m,\u001b[0m\u001b[0;34m\u001b[0m\u001b[0m\n\u001b[1;32m    249\u001b[0m         \u001b[0mseparators\u001b[0m\u001b[0;34m=\u001b[0m\u001b[0mseparators\u001b[0m\u001b[0;34m,\u001b[0m \u001b[0mencoding\u001b[0m\u001b[0;34m=\u001b[0m\u001b[0mencoding\u001b[0m\u001b[0;34m,\u001b[0m \u001b[0mdefault\u001b[0m\u001b[0;34m=\u001b[0m\u001b[0mdefault\u001b[0m\u001b[0;34m,\u001b[0m\u001b[0;34m\u001b[0m\u001b[0m\n\u001b[0;32m--> 250\u001b[0;31m         sort_keys=sort_keys, **kw).encode(obj)\n\u001b[0m\u001b[1;32m    251\u001b[0m \u001b[0;34m\u001b[0m\u001b[0m\n\u001b[1;32m    252\u001b[0m \u001b[0;34m\u001b[0m\u001b[0m\n",
      "\u001b[0;32m/Users/take/local/sage-6.9/local/lib/python/json/encoder.pyc\u001b[0m in \u001b[0;36mencode\u001b[0;34m(self, o)\u001b[0m\n\u001b[1;32m    208\u001b[0m         \u001b[0;32mif\u001b[0m \u001b[0;32mnot\u001b[0m \u001b[0misinstance\u001b[0m\u001b[0;34m(\u001b[0m\u001b[0mchunks\u001b[0m\u001b[0;34m,\u001b[0m \u001b[0;34m(\u001b[0m\u001b[0mlist\u001b[0m\u001b[0;34m,\u001b[0m \u001b[0mtuple\u001b[0m\u001b[0;34m)\u001b[0m\u001b[0;34m)\u001b[0m\u001b[0;34m:\u001b[0m\u001b[0;34m\u001b[0m\u001b[0m\n\u001b[1;32m    209\u001b[0m             \u001b[0mchunks\u001b[0m \u001b[0;34m=\u001b[0m \u001b[0mlist\u001b[0m\u001b[0;34m(\u001b[0m\u001b[0mchunks\u001b[0m\u001b[0;34m)\u001b[0m\u001b[0;34m\u001b[0m\u001b[0m\n\u001b[0;32m--> 210\u001b[0;31m         \u001b[0;32mreturn\u001b[0m \u001b[0;34m''\u001b[0m\u001b[0;34m.\u001b[0m\u001b[0mjoin\u001b[0m\u001b[0;34m(\u001b[0m\u001b[0mchunks\u001b[0m\u001b[0;34m)\u001b[0m\u001b[0;34m\u001b[0m\u001b[0m\n\u001b[0m\u001b[1;32m    211\u001b[0m \u001b[0;34m\u001b[0m\u001b[0m\n\u001b[1;32m    212\u001b[0m     \u001b[0;32mdef\u001b[0m \u001b[0miterencode\u001b[0m\u001b[0;34m(\u001b[0m\u001b[0mself\u001b[0m\u001b[0;34m,\u001b[0m \u001b[0mo\u001b[0m\u001b[0;34m,\u001b[0m \u001b[0m_one_shot\u001b[0m\u001b[0;34m=\u001b[0m\u001b[0mFalse\u001b[0m\u001b[0;34m)\u001b[0m\u001b[0;34m:\u001b[0m\u001b[0;34m\u001b[0m\u001b[0m\n",
      "\u001b[0;31mUnicodeDecodeError\u001b[0m: 'ascii' codec can't decode byte 0xe5 in position 96: ordinal not in range(128)"
     ]
    }
   ],
   "source": [
    "HTML(output.stdout)"
   ]
  },
  {
   "cell_type": "code",
   "execution_count": 17,
   "metadata": {
    "collapsed": false
   },
   "outputs": [],
   "source": [
    "#import matplotlib.pyplot as plt\n",
    "#from io import BytesIO\n",
    "import urllib, base64\n",
    "from IPython.display import Image\n",
    "\n",
    "def _to_png(fig):\n",
    "    filename = os.path.join(SAGE_TMP, 'junk.png')\n",
    "    fig.save_image(filename)\n",
    "    img = Image(filename)\n",
    "    return \"<img src='data:image/png;base64,\" +  base64.b64encode(img.data) + \"'/>\""
   ]
  },
  {
   "cell_type": "code",
   "execution_count": 18,
   "metadata": {
    "collapsed": true
   },
   "outputs": [],
   "source": [
    "s_plt = plot(sin(x), [x, -pi, pi], figsize=4)\n",
    "c_plt = plot(cos(x), [x, -pi, pi], figsize=4)"
   ]
  },
  {
   "cell_type": "code",
   "execution_count": 19,
   "metadata": {
    "collapsed": false,
    "scrolled": false
   },
   "outputs": [
    {
     "data": {
      "text/plain": []
     },
     "execution_count": 19,
     "metadata": {},
     "output_type": "execute_result"
    }
   ],
   "source": [
    "%%capture output\n",
    "html.table([[_to_png(s_plt), _to_png(c_plt)]], header=[\"sin\", \"cos\"])"
   ]
  },
  {
   "cell_type": "code",
   "execution_count": 20,
   "metadata": {
    "collapsed": false
   },
   "outputs": [
    {
     "data": {
      "text/html": [
       "<div class=\"notruncate\">\n",
       "<table  class=\"table_form\">\n",
       "<tbody>\n",
       "<tr>\n",
       "<th>sin</th>\n",
       "<th>cos</th>\n",
       "</tr>\n",
       "<tr class =\"row-a\">\n",
       "<td><img src='data:image/png;base64,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'/></td>\n",
       "<td><img src='data:image/png;base64,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'/></td>\n",
       "</tr>\n",
       "</tbody>\n",
       "</table>\n",
       "</div>\n"
      ],
      "text/plain": [
       "<IPython.core.display.HTML object>"
      ]
     },
     "execution_count": 20,
     "metadata": {},
     "output_type": "execute_result"
    }
   ],
   "source": [
    "HTML(output.stdout)"
   ]
  },
  {
   "cell_type": "code",
   "execution_count": 21,
   "metadata": {
    "collapsed": true
   },
   "outputs": [],
   "source": [
    "import urllib, base64\n",
    "from IPython.display import Image\n",
    "class Graphics2Html:\n",
    "    def __init__(self, graphics):\n",
    "        filename = os.path.join(SAGE_TMP, 'junk.png')\n",
    "        graphics.save_image(filename)\n",
    "        _img = Image(filename)\n",
    "        self._html = \"<img src='data:image/png;base64,\" +  base64.b64encode(_img.data) + \"'/>\"\n",
    "        os.remove(filename)\n",
    "    \n",
    "    def _repr_html_(self):\n",
    "        return self._html"
   ]
  },
  {
   "cell_type": "code",
   "execution_count": 22,
   "metadata": {
    "collapsed": false
   },
   "outputs": [
    {
     "data": {
      "text/html": [
       "<img src='data:image/png;base64,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'/>"
      ],
      "text/plain": [
       "<__main__.Graphics2Html instance at 0x1135665f0>"
      ]
     },
     "execution_count": 22,
     "metadata": {},
     "output_type": "execute_result"
    }
   ],
   "source": [
    "Graphics2Html(c_plt)"
   ]
  },
  {
   "cell_type": "code",
   "execution_count": 23,
   "metadata": {
    "collapsed": false
   },
   "outputs": [
    {
     "data": {
      "text/plain": []
     },
     "execution_count": 23,
     "metadata": {},
     "output_type": "execute_result"
    }
   ],
   "source": [
    "%%capture output\n",
    "html.table([Graphics2Html(s_plt)._repr_html_(), Graphics2Html(c_plt)._repr_html_()])"
   ]
  },
  {
   "cell_type": "code",
   "execution_count": 25,
   "metadata": {
    "collapsed": false
   },
   "outputs": [
    {
     "data": {
      "text/html": [
       "<div class=\"notruncate\">\n",
       "<table  class=\"table_form\">\n",
       "<tbody>\n",
       "<tr class =\"row-a\">\n",
       "<td><img src='data:image/png;base64,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'/></td>\n",
       "<td><img src='data:image/png;base64,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'/></td>\n",
       "</tr>\n",
       "</tbody>\n",
       "</table>\n",
       "</div>\n"
      ],
      "text/plain": [
       "<IPython.core.display.HTML object>"
      ]
     },
     "execution_count": 25,
     "metadata": {},
     "output_type": "execute_result"
    }
   ],
   "source": [
    "HTML(output.stdout)"
   ]
  },
  {
   "cell_type": "code",
   "execution_count": 26,
   "metadata": {
    "collapsed": false
   },
   "outputs": [],
   "source": []
  },
  {
   "cell_type": "code",
   "execution_count": 94,
   "metadata": {
    "collapsed": false,
    "scrolled": false
   },
   "outputs": [
    {
     "name": "stdout",
     "output_type": "stream",
     "text": [
      "Graphics object consisting of 1 graphics primitive\n"
     ]
    }
   ],
   "source": [
    "print(s_plt)"
   ]
  },
  {
   "cell_type": "code",
   "execution_count": 65,
   "metadata": {
    "collapsed": false
   },
   "outputs": [],
   "source": [
    "import IPython.display"
   ]
  },
  {
   "cell_type": "code",
   "execution_count": 67,
   "metadata": {
    "collapsed": false
   },
   "outputs": [
    {
     "name": "stdout",
     "output_type": "stream",
     "text": [
      "Graphics object consisting of 1 graphics primitive\n"
     ]
    }
   ],
   "source": [
    "s_plt.show()"
   ]
  },
  {
   "cell_type": "code",
   "execution_count": 50,
   "metadata": {
    "collapsed": false
   },
   "outputs": [
    {
     "data": {
      "text/plain": [
       "<IPython.core.display.DisplayObject object>"
      ]
     },
     "execution_count": 50,
     "metadata": {},
     "output_type": "execute_result"
    }
   ],
   "source": [
    "IPython.display."
   ]
  },
  {
   "cell_type": "code",
   "execution_count": 48,
   "metadata": {
    "collapsed": true
   },
   "outputs": [],
   "source": [
    "s_plt.save_image?"
   ]
  },
  {
   "cell_type": "code",
   "execution_count": 38,
   "metadata": {
    "collapsed": false
   },
   "outputs": [
    {
     "ename": "NameError",
     "evalue": "name 'output' is not defined",
     "output_type": "error",
     "traceback": [
      "\u001b[0;31m---------------------------------------------------------------------------\u001b[0m",
      "\u001b[0;31mNameError\u001b[0m                                 Traceback (most recent call last)",
      "\u001b[0;32m<ipython-input-38-ea55acea7fb4>\u001b[0m in \u001b[0;36m<module>\u001b[0;34m()\u001b[0m\n\u001b[0;32m----> 1\u001b[0;31m \u001b[0mHTML\u001b[0m\u001b[0;34m(\u001b[0m\u001b[0mstr\u001b[0m\u001b[0;34m(\u001b[0m\u001b[0moutput\u001b[0m\u001b[0;34m)\u001b[0m\u001b[0;34m)\u001b[0m\u001b[0;34m\u001b[0m\u001b[0m\n\u001b[0m",
      "\u001b[0;31mNameError\u001b[0m: name 'output' is not defined"
     ]
    }
   ],
   "source": [
    "HTML(str(output))"
   ]
  },
  {
   "cell_type": "code",
   "execution_count": 16,
   "metadata": {
    "collapsed": false
   },
   "outputs": [
    {
     "data": {
      "text/plain": [
       "u'0.17.1'"
      ]
     },
     "execution_count": 16,
     "metadata": {},
     "output_type": "execute_result"
    }
   ],
   "source": [
    "import pandas as pd\n",
    "import numpy as np\n",
    "\n",
    "np.__version__\n",
    "# '1.10.1'\n",
    "\n",
    "pd.__version__\n",
    "# u'0.17.1'\n",
    "\n"
   ]
  },
  {
   "cell_type": "code",
   "execution_count": 17,
   "metadata": {
    "collapsed": false
   },
   "outputs": [
    {
     "data": {
      "text/plain": [
       "  name   values1   values2\n",
       "0    a -0.281494 -1.037772\n",
       "1    b -0.298142 -1.182853\n",
       "2    c  0.484058 -0.619206\n",
       "3    d  0.733423  0.031425\n",
       "4    e  0.998706 -0.655828\n",
       "5    f  0.563424  0.177234\n",
       "6    g  0.292926  0.951065"
      ]
     },
     "execution_count": 17,
     "metadata": {},
     "output_type": "execute_result"
    }
   ],
   "source": [
    "df = pd.DataFrame({'name': list('abcdefg'),\n",
    "                   'values1': np.random.randn(7), \n",
    "                   'values2': np.random.randn(7)})\n",
    "df"
   ]
  },
  {
   "cell_type": "code",
   "execution_count": 18,
   "metadata": {
    "collapsed": false
   },
   "outputs": [
    {
     "data": {
      "text/plain": [
       "<pandas.core.style.Styler object at 0x11a027650>"
      ]
     },
     "execution_count": 18,
     "metadata": {},
     "output_type": "execute_result"
    }
   ],
   "source": [
    "type(df.style)\n",
    "# pandas.core.style.Styler\n",
    "\n",
    "df.style.background_gradient(cmap='winter')"
   ]
  },
  {
   "cell_type": "code",
   "execution_count": null,
   "metadata": {
    "collapsed": true
   },
   "outputs": [],
   "source": []
  }
 ],
 "metadata": {
  "kernelspec": {
   "display_name": "Python 2",
   "language": "python",
   "name": "python2"
  },
  "language_info": {
   "codemirror_mode": {
    "name": "ipython",
    "version": 2
   },
   "file_extension": ".py",
   "mimetype": "text/x-python",
   "name": "python",
   "nbconvert_exporter": "python",
   "pygments_lexer": "ipython2",
   "version": "2.7.9"
  }
 },
 "nbformat": 4,
 "nbformat_minor": 0
}
